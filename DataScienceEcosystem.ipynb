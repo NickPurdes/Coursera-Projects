{
 "cells": [
  {
   "cell_type": "markdown",
   "id": "8b1e0792-b8b5-4171-9522-678ac17be348",
   "metadata": {},
   "source": [
    "# Data Science Tools and Ecosystem"
   ]
  },
  {
   "cell_type": "markdown",
   "id": "74234dca-6e0d-41ce-9681-3b605a511e6e",
   "metadata": {},
   "source": [
    "In this notebook, Data Science Tools and Ecosystem are summarized."
   ]
  },
  {
   "cell_type": "markdown",
   "id": "405cbeb1-e193-4f4b-9710-4188cb78ebe0",
   "metadata": {},
   "source": [
    "<b>Objectives:</b>\n",
    "<ul>\n",
    "<li>List popular languages for Data Science</li>\n",
    "<li>List of the commonly used libraries used by Data Scientists</li>\n",
    "<li>Data Science Tools</li>\n",
    "<li>Simple arithmetic expressions</li>\n",
    "</ul>"
   ]
  },
  {
   "cell_type": "markdown",
   "id": "699606dd-d307-4b58-8d03-8868ec4313df",
   "metadata": {},
   "source": [
    "Some of the popular languages that Data Scientists use are:\n",
    "<ol>\n",
    "<li>Python</li>\n",
    "<li>R</li>\n",
    "<li>SQL</li>\n",
    "<li>Scala</li>\n",
    "</ol>"
   ]
  },
  {
   "cell_type": "markdown",
   "id": "5c04476d-beff-4049-8dbf-01d97059c076",
   "metadata": {},
   "source": [
    "Some of the commonly used libraries used by Data Scientists include:\n",
    "<ol>\n",
    "<li>pandas</li>\n",
    "<li>scikit-learn</li>\n",
    "<li>matplolib</li>\n",
    "<li>ggplot</li>\n",
    "</ol>"
   ]
  },
  {
   "cell_type": "markdown",
   "id": "e0f78a80-7359-497e-b180-9071ecf2dbfa",
   "metadata": {},
   "source": [
    "|Data Science Tools|\n",
    "|---|\n",
    "|Jupiter Notebooks|\n",
    "|Apache Spark|\n",
    "|MySQL|"
   ]
  },
  {
   "cell_type": "markdown",
   "id": "081459a0-efe9-4add-a3a9-6ac3daad34ef",
   "metadata": {},
   "source": [
    "### Below are a few examples of evaluating arithmetic expressions in Python."
   ]
  },
  {
   "cell_type": "code",
   "execution_count": 24,
   "id": "54b0b31e-161d-44c4-90fb-05f8d1dfff2e",
   "metadata": {},
   "outputs": [
    {
     "data": {
      "text/plain": [
       "17.0"
      ]
     },
     "execution_count": 24,
     "metadata": {},
     "output_type": "execute_result"
    }
   ],
   "source": [
    "# This a simple arithmetic expression to mutiply then add integers\n",
    "(3*4)+5."
   ]
  },
  {
   "cell_type": "code",
   "execution_count": 48,
   "id": "115f1239-6501-4d04-9466-91fd511fabb6",
   "metadata": {},
   "outputs": [
    {
     "name": "stdout",
     "output_type": "stream",
     "text": [
      "3:20\n"
     ]
    }
   ],
   "source": [
    "# This will convert 200 minutes to hours by diving by 60\n",
    "hours = 200//60\n",
    "minutes = 200-hours*60\n",
    "combined = str(hours)+\":\"+str(minutes)\n",
    "print(combined)"
   ]
  },
  {
   "cell_type": "markdown",
   "id": "96c0090c-5e2b-4ac7-b761-43799a45ccfa",
   "metadata": {},
   "source": [
    "## Author \n",
    "Nick Purdes"
   ]
  }
 ],
 "metadata": {
  "kernelspec": {
   "display_name": "anaconda-ai-2024.04-py310",
   "language": "python",
   "name": "conda-env-anaconda-ai-2024.04-py310-py"
  },
  "language_info": {
   "codemirror_mode": {
    "name": "ipython",
    "version": 3
   },
   "file_extension": ".py",
   "mimetype": "text/x-python",
   "name": "python",
   "nbconvert_exporter": "python",
   "pygments_lexer": "ipython3",
   "version": "3.10.13"
  }
 },
 "nbformat": 4,
 "nbformat_minor": 5
}
